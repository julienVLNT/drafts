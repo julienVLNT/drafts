{
 "cells": [
  {
   "cell_type": "code",
   "execution_count": 1,
   "metadata": {},
   "outputs": [
    {
     "name": "stdout",
     "output_type": "stream",
     "text": [
      "Python 3.10.9\n"
     ]
    }
   ],
   "source": [
    "!python --version"
   ]
  },
  {
   "cell_type": "code",
   "execution_count": 2,
   "metadata": {},
   "outputs": [],
   "source": [
    "import postprocessing as pos"
   ]
  },
  {
   "attachments": {},
   "cell_type": "markdown",
   "metadata": {},
   "source": [
    "### Analysis of a single experiment"
   ]
  },
  {
   "cell_type": "code",
   "execution_count": 3,
   "metadata": {},
   "outputs": [
    {
     "name": "stderr",
     "output_type": "stream",
     "text": [
      "c:\\Users\\julie\\Documents\\GitHub\\drafts\\postprocessing.py:31: UserWarning: No contour levels were found within the data range.\n",
      "  axe.contour(field, [cinf, 1])\n"
     ]
    }
   ],
   "source": [
    "csvfile = \"C:\\\\Users\\\\julie\\\\Documents\\\\experiences\\\\S18_Eyy_point679.csv\"\n",
    "pos.analyse_single_experience(csvfile)"
   ]
  },
  {
   "attachments": {},
   "cell_type": "markdown",
   "metadata": {},
   "source": [
    "### Analysis of a folder"
   ]
  },
  {
   "cell_type": "code",
   "execution_count": 4,
   "metadata": {},
   "outputs": [
    {
     "name": "stderr",
     "output_type": "stream",
     "text": [
      "c:\\Users\\julie\\Documents\\GitHub\\drafts\\postprocessing.py:111: UserWarning: No contour levels were found within the data range.\n",
      "  axe.contour(field, [cinf, 1])\n"
     ]
    }
   ],
   "source": [
    "folder = \"C:\\\\Users\\\\julie\\\\Documents\\\\experiences\"\n",
    "pos.analyse_folder_experiences(folder)"
   ]
  }
 ],
 "metadata": {
  "kernelspec": {
   "display_name": "rheovolution",
   "language": "python",
   "name": "python3"
  },
  "language_info": {
   "codemirror_mode": {
    "name": "ipython",
    "version": 3
   },
   "file_extension": ".py",
   "mimetype": "text/x-python",
   "name": "python",
   "nbconvert_exporter": "python",
   "pygments_lexer": "ipython3",
   "version": "3.10.9"
  },
  "orig_nbformat": 4
 },
 "nbformat": 4,
 "nbformat_minor": 2
}
