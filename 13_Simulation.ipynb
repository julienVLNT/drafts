{
 "cells": [
  {
   "cell_type": "code",
   "execution_count": 1,
   "metadata": {},
   "outputs": [
    {
     "name": "stdout",
     "output_type": "stream",
     "text": [
      "Python 3.10.9\n"
     ]
    }
   ],
   "source": [
    "!python --version"
   ]
  },
  {
   "attachments": {},
   "cell_type": "markdown",
   "metadata": {},
   "source": [
    "### Environnement d'exécution"
   ]
  },
  {
   "cell_type": "code",
   "execution_count": 2,
   "metadata": {},
   "outputs": [],
   "source": [
    "import adelio            as io\n",
    "import matplotlib.tri    as tri\n",
    "import matplotlib.pyplot as plt\n",
    "import numpy             as np\n",
    "import os\n",
    "import preprocessing     as pre\n",
    "import postprocessing    as pos"
   ]
  },
  {
   "attachments": {},
   "cell_type": "markdown",
   "metadata": {},
   "source": [
    "### Une classe `Simulation`"
   ]
  },
  {
   "cell_type": "code",
   "execution_count": 3,
   "metadata": {},
   "outputs": [],
   "source": [
    "class Simulation():\n",
    "    \"\"\"Représentation d'une simulation numérique effectuée par ADELI.\n",
    "    \"\"\"\n",
    "\n",
    "    def __init__(self, folder: str, export: str) -> None:\n",
    "        \"\"\"Constructeur.\n",
    "\n",
    "        Parametres\n",
    "        ----------\n",
    "        folder : str\n",
    "                   Chemin absolu vers le dossier contenant les fichiers T et P de la simulation.\n",
    "        \n",
    "        Retour\n",
    "        ------\n",
    "        \"\"\"\n",
    "        self.folder = folder\n",
    "        self.name   = folder.split(\"/\")[-1]\n",
    "\n",
    "        os.makedirs(os.path.join(export, self.name), exist_ok=True)\n",
    "        \n",
    "        # Lecture de la liste des dates\n",
    "        self.tfile  = io.Tfile(os.path.join(self.folder, \"\".join([filename for filename in os.listdir(self.folder) if filename.startswith(\"t\")])))\n",
    "        self.dates  = self.tfile.read()\n",
    "        self.idates = list(range(len(self.dates)))\n",
    "\n",
    "        self.pfile  = io.Pfile(os.path.join(self.folder, \"\".join([filename for filename in os.listdir(self.folder) if filename.startswith(\"p\")])))\n",
    "\n",
    "        self.j2d = []\n",
    "        self.j2e = []\n",
    "        self.j2s = []\n",
    "        self.peierls = []\n",
    "\n",
    "        for _ in self.idates:\n",
    "\n",
    "            i2d, j2d = pre.field2pic(self.pfile, 'd', _)\n",
    "            i2e, j2e = pre.field2pic(self.pfile, 'e', _)\n",
    "            i2s, j2s = pre.field2pic(self.pfile, 's', _)\n",
    "            peierls  = pre.peierls2pic(self.pfile, _)\n",
    "\n",
    "            self.j2d.append(j2d)\n",
    "            self.j2e.append(j2e)\n",
    "            self.j2s.append(j2s)\n",
    "            self.peierls.append(peierls)\n",
    "\n",
    "        \n",
    "            fig = plt.figure()\n",
    "            axe = fig.add_subplot(1,1,1)\n",
    "            axe.imshow(self.j2d[-1], origin='lower')\n",
    "            axe.set_xlabel(\"X [px]\")\n",
    "            axe.set_ylabel(\"Y [px]\")\n",
    "            axe.set_title(f\"$J_2 ; t = {_}$\")\n",
    "            plt.savefig(f\"{export}/{self.name}/j2d_{_}.jpg\")\n",
    "            plt.close()\n",
    "\n",
    "            fig = plt.figure()\n",
    "            axe = fig.add_subplot(1,1,1)\n",
    "            axe.imshow(self.j2e[-1], origin='lower')\n",
    "            axe.set_xlabel(\"X [px]\")\n",
    "            axe.set_ylabel(\"Y [px]\")\n",
    "            axe.set_title(f\"$J_2 ; t = {_}$\")\n",
    "            plt.savefig(f\"{export}/{self.name}/j2e_{_}.jpg\")\n",
    "            plt.close()\n",
    "\n",
    "            fig = plt.figure()\n",
    "            axe = fig.add_subplot(1,1,1)\n",
    "            axe.imshow(self.j2s[-1], origin='lower')\n",
    "            axe.set_xlabel(\"X [px]\")\n",
    "            axe.set_ylabel(\"Y [px]\")\n",
    "            axe.set_title(f\"$J_2 ; t = {_}$\")\n",
    "            plt.savefig(f\"{export}/{self.name}/j2s_{_}.jpg\")\n",
    "            plt.close()\n",
    "\n",
    "            fig = plt.figure()\n",
    "            axe = fig.add_subplot(1,1,1)\n",
    "            axe.imshow(self.peierls[-1], origin='lower')\n",
    "            axe.set_xlabel(\"X [px]\")\n",
    "            axe.set_ylabel(\"Y [px]\")\n",
    "            axe.set_title(f\"$J_2 ; t = {_}$\")\n",
    "            plt.savefig(f\"{export}/{self.name}/peierls_{_}.jpg\")\n",
    "            plt.close()\n",
    "\n",
    "        return"
   ]
  },
  {
   "attachments": {},
   "cell_type": "markdown",
   "metadata": {},
   "source": [
    "### Les simulations à traiter"
   ]
  },
  {
   "cell_type": "code",
   "execution_count": 4,
   "metadata": {},
   "outputs": [],
   "source": [
    "folders = [\n",
    "    \"C:/Users/julie/Documents/test_deia_Nov2022/E13rect_P2_0.5GPa_init0_neigh1_time10_dtup10000_500000_1000K_Zfree_WR7_4.5e_6_PNew1e9_long\"\n",
    "]"
   ]
  },
  {
   "cell_type": "code",
   "execution_count": 5,
   "metadata": {},
   "outputs": [
    {
     "ename": "KeyboardInterrupt",
     "evalue": "",
     "output_type": "error",
     "traceback": [
      "\u001b[1;31m---------------------------------------------------------------------------\u001b[0m",
      "\u001b[1;31mKeyboardInterrupt\u001b[0m                         Traceback (most recent call last)",
      "Cell \u001b[1;32mIn[5], line 2\u001b[0m\n\u001b[0;32m      1\u001b[0m \u001b[39mfor\u001b[39;00m folder \u001b[39min\u001b[39;00m folders:\n\u001b[1;32m----> 2\u001b[0m     simulation \u001b[39m=\u001b[39m Simulation(folder, \u001b[39m\"\u001b[39;49m\u001b[39mC:/Users/julie/Documents/GitHub/drafts/export\u001b[39;49m\u001b[39m\"\u001b[39;49m)\n\u001b[0;32m      3\u001b[0m     pos\u001b[39m.\u001b[39manalyse_single(os\u001b[39m.\u001b[39mpath\u001b[39m.\u001b[39mjoin(folder, os\u001b[39m.\u001b[39mpath\u001b[39m.\u001b[39mjoin(\u001b[39mself\u001b[39m\u001b[39m.\u001b[39mfolder, \u001b[39m\"\u001b[39m\u001b[39m\"\u001b[39m\u001b[39m.\u001b[39mjoin([filename \u001b[39mfor\u001b[39;00m filename \u001b[39min\u001b[39;00m os\u001b[39m.\u001b[39mlistdir(\u001b[39mself\u001b[39m\u001b[39m.\u001b[39mfolder) \u001b[39mif\u001b[39;00m filename\u001b[39m.\u001b[39mstartswith(\u001b[39m\"\u001b[39m\u001b[39mp\u001b[39m\u001b[39m\"\u001b[39m)]))))\n",
      "Cell \u001b[1;32mIn[3], line 36\u001b[0m, in \u001b[0;36mSimulation.__init__\u001b[1;34m(self, folder, export)\u001b[0m\n\u001b[0;32m     33\u001b[0m \u001b[39mfor\u001b[39;00m _ \u001b[39min\u001b[39;00m \u001b[39mself\u001b[39m\u001b[39m.\u001b[39midates:\n\u001b[0;32m     35\u001b[0m     i2d, j2d \u001b[39m=\u001b[39m pre\u001b[39m.\u001b[39mfield2pic(\u001b[39mself\u001b[39m\u001b[39m.\u001b[39mpfile, \u001b[39m'\u001b[39m\u001b[39md\u001b[39m\u001b[39m'\u001b[39m, _)\n\u001b[1;32m---> 36\u001b[0m     i2e, j2e \u001b[39m=\u001b[39m pre\u001b[39m.\u001b[39;49mfield2pic(\u001b[39mself\u001b[39;49m\u001b[39m.\u001b[39;49mpfile, \u001b[39m'\u001b[39;49m\u001b[39me\u001b[39;49m\u001b[39m'\u001b[39;49m, _)\n\u001b[0;32m     37\u001b[0m     i2s, j2s \u001b[39m=\u001b[39m pre\u001b[39m.\u001b[39mfield2pic(\u001b[39mself\u001b[39m\u001b[39m.\u001b[39mpfile, \u001b[39m'\u001b[39m\u001b[39ms\u001b[39m\u001b[39m'\u001b[39m, _)\n\u001b[0;32m     38\u001b[0m     peierls  \u001b[39m=\u001b[39m pre\u001b[39m.\u001b[39mpeierls2pic(\u001b[39mself\u001b[39m\u001b[39m.\u001b[39mpfile, _)\n",
      "File \u001b[1;32mc:\\Users\\julie\\Documents\\GitHub\\drafts\\preprocessing.py:75\u001b[0m, in \u001b[0;36mfield2pic\u001b[1;34m(source, name, timestep)\u001b[0m\n\u001b[0;32m     72\u001b[0m xgrid, zgrid \u001b[39m=\u001b[39m np\u001b[39m.\u001b[39mmeshgrid(xlin, zlin)\n\u001b[0;32m     74\u001b[0m \u001b[39m# Interpolate i2, j2 on the regular grid\u001b[39;00m\n\u001b[1;32m---> 75\u001b[0m i2 \u001b[39m=\u001b[39m sp\u001b[39m.\u001b[39;49minterpolate\u001b[39m.\u001b[39;49mgriddata( np\u001b[39m.\u001b[39;49mswapaxes(coords[:,:], axis1\u001b[39m=\u001b[39;49m\u001b[39m1\u001b[39;49m, axis2\u001b[39m=\u001b[39;49m\u001b[39m0\u001b[39;49m), i2[:], (xgrid, zgrid), method\u001b[39m=\u001b[39;49m\u001b[39m'\u001b[39;49m\u001b[39mcubic\u001b[39;49m\u001b[39m'\u001b[39;49m )\n\u001b[0;32m     76\u001b[0m j2 \u001b[39m=\u001b[39m sp\u001b[39m.\u001b[39minterpolate\u001b[39m.\u001b[39mgriddata( np\u001b[39m.\u001b[39mswapaxes(coords[:,:], axis1\u001b[39m=\u001b[39m\u001b[39m1\u001b[39m, axis2\u001b[39m=\u001b[39m\u001b[39m0\u001b[39m), j2[:], (xgrid, zgrid), method\u001b[39m=\u001b[39m\u001b[39m'\u001b[39m\u001b[39mcubic\u001b[39m\u001b[39m'\u001b[39m )\n\u001b[0;32m     78\u001b[0m \u001b[39m# Fill the NaNs with mean value\u001b[39;00m\n",
      "File \u001b[1;32mc:\\Users\\julie\\.conda\\envs\\rheovolution\\lib\\site-packages\\scipy\\interpolate\\_ndgriddata.py:270\u001b[0m, in \u001b[0;36mgriddata\u001b[1;34m(points, values, xi, method, fill_value, rescale)\u001b[0m\n\u001b[0;32m    267\u001b[0m \u001b[39melif\u001b[39;00m method \u001b[39m==\u001b[39m \u001b[39m'\u001b[39m\u001b[39mcubic\u001b[39m\u001b[39m'\u001b[39m \u001b[39mand\u001b[39;00m ndim \u001b[39m==\u001b[39m \u001b[39m2\u001b[39m:\n\u001b[0;32m    268\u001b[0m     ip \u001b[39m=\u001b[39m CloughTocher2DInterpolator(points, values, fill_value\u001b[39m=\u001b[39mfill_value,\n\u001b[0;32m    269\u001b[0m                                     rescale\u001b[39m=\u001b[39mrescale)\n\u001b[1;32m--> 270\u001b[0m     \u001b[39mreturn\u001b[39;00m ip(xi)\n\u001b[0;32m    271\u001b[0m \u001b[39melse\u001b[39;00m:\n\u001b[0;32m    272\u001b[0m     \u001b[39mraise\u001b[39;00m \u001b[39mValueError\u001b[39;00m(\u001b[39m\"\u001b[39m\u001b[39mUnknown interpolation method \u001b[39m\u001b[39m%r\u001b[39;00m\u001b[39m for \u001b[39m\u001b[39m\"\u001b[39m\n\u001b[0;32m    273\u001b[0m                      \u001b[39m\"\u001b[39m\u001b[39m%d\u001b[39;00m\u001b[39m dimensional data\u001b[39m\u001b[39m\"\u001b[39m \u001b[39m%\u001b[39m (method, ndim))\n",
      "\u001b[1;31mKeyboardInterrupt\u001b[0m: "
     ]
    }
   ],
   "source": [
    "for folder in folders:\n",
    "    simulation = Simulation(folder, \"C:/Users/julie/Documents/GitHub/drafts/export\")\n",
    "    pos.analyse_single(os.path.join(folder, os.path.join(self.folder, \"\".join([filename for filename in os.listdir(self.folder) if filename.startswith(\"p\")]))))"
   ]
  },
  {
   "cell_type": "code",
   "execution_count": null,
   "metadata": {},
   "outputs": [],
   "source": []
  }
 ],
 "metadata": {
  "kernelspec": {
   "display_name": "rheovolution",
   "language": "python",
   "name": "python3"
  },
  "language_info": {
   "codemirror_mode": {
    "name": "ipython",
    "version": 3
   },
   "file_extension": ".py",
   "mimetype": "text/x-python",
   "name": "python",
   "nbconvert_exporter": "python",
   "pygments_lexer": "ipython3",
   "version": "3.10.9"
  },
  "orig_nbformat": 4
 },
 "nbformat": 4,
 "nbformat_minor": 2
}
